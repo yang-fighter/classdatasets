{
 "cells": [
  {
   "cell_type": "code",
   "execution_count": null,
   "metadata": {
    "deletable": false,
    "editable": false
   },
   "outputs": [],
   "source": [
    "# Initialize Otter\n",
    "import otter\n",
    "grader = otter.Notebook(\"Unit 3 Lab Assignment.ipynb\")"
   ]
  },
  {
   "cell_type": "markdown",
   "metadata": {},
   "source": [
    "# Project 3 - Bisection Method"
   ]
  },
  {
   "cell_type": "markdown",
   "metadata": {},
   "source": [
    "## Instructions\n",
    "- Work directly within this notebook. Submissions with work outside this notebook will receive a score of **0**.\n",
    "- In this assignment, you are required to replace the placeholder `...` with your code.\n",
    "- Only modify the `...` sections. **Do not** add extra lines of code.\n",
    "- For questions with the `grader.check()` function, run the corresponding cell to verify your answer. For those without it, your answer will be manually graded.\n",
    "- After completing the assignment, run the entire notebook to ensure there are no syntax errors. I will be running your code after submission. If a syntax error occurs in any question, you will lose all points for this project.\n",
    "\n",
    "Run next cell to load necessary modules for this assignment."
   ]
  },
  {
   "cell_type": "code",
   "execution_count": null,
   "metadata": {},
   "outputs": [],
   "source": [
    "import numpy as np\n",
    "import matplotlib.pyplot as plt\n",
    "import seaborn as sns\n",
    "\n",
    "sns.set_style('whitegrid')"
   ]
  },
  {
   "cell_type": "markdown",
   "metadata": {},
   "source": [
    "## Assignments\n",
    "\n",
    "In this project, you will use bisection method to find the root of linear equation $f(x)=e^x-2$ to find the approximation of $\\ln 2$ accurate to within $atol=10^{-8}$."
   ]
  },
  {
   "cell_type": "markdown",
   "metadata": {
    "deletable": false,
    "editable": false
   },
   "source": [
    "### Part 1 - Bisection Method\n",
    "\n",
    "In this part, you need to complete the function of bisection method in next code cell.\n",
    "\n",
    "Recall the bisection method consists of the following steps:\n",
    "\n",
    "1. Define $c=(a+b)/2$.\n",
    "2. If $b-c\\le atol$, then accept $c$ as the root and stop.\n",
    "3. If $f(b)\\cdot f(c)\\le 0$, then set $a=c$. Otherwise, set $b=c$. Return to step 1.\n",
    "\n",
    "\n",
    "The following flowchart can help you understanding the process."
   ]
  },
  {
   "cell_type": "markdown",
   "metadata": {
    "deletable": false,
    "editable": false
   },
   "source": [
    "![Bisection Method Flow Chart](https://www.wtamu.edu/~yyang/book/math4362/_images/12.png)"
   ]
  },
  {
   "cell_type": "code",
   "execution_count": null,
   "metadata": {
    "tags": []
   },
   "outputs": [],
   "source": [
    "def bisection(f:callable, a:float, b:float, atol:float):\n",
    "    \"\"\"\n",
    "    Return the root of `f` on the interval `[a, b]` accurate to within `atol` if applicable. Otherwise return `None`.\n",
    "    \"\"\"\n",
    "    if f(a)*f(b) > 0:\n",
    "        ...\n",
    "    \n",
    "    done = False\n",
    "    while not done:\n",
    "        ...\n"
   ]
  },
  {
   "cell_type": "code",
   "execution_count": null,
   "metadata": {
    "deletable": false,
    "editable": false
   },
   "outputs": [],
   "source": [
    "grader.check(\"part_01\")"
   ]
  },
  {
   "cell_type": "markdown",
   "metadata": {
    "deletable": false,
    "editable": false
   },
   "source": [
    "### Part 2 - Define the function `f`\n",
    "\n",
    "In this part, you need to complete the function in next code cell to return the function $f(x)=e^x-2$."
   ]
  },
  {
   "cell_type": "code",
   "execution_count": null,
   "metadata": {
    "tags": []
   },
   "outputs": [],
   "source": [
    "def f(x):\n",
    "    ..."
   ]
  },
  {
   "cell_type": "code",
   "execution_count": null,
   "metadata": {
    "deletable": false,
    "editable": false
   },
   "outputs": [],
   "source": [
    "grader.check(\"part_02\")"
   ]
  },
  {
   "cell_type": "markdown",
   "metadata": {
    "deletable": false,
    "editable": false
   },
   "source": [
    "### Part 3 - Solve the root of `f` by bisection method\n",
    "Run next code cell and it will show the graph of the function on the interval $[-1,2]$."
   ]
  },
  {
   "cell_type": "code",
   "execution_count": null,
   "metadata": {
    "deletable": false,
    "editable": false
   },
   "outputs": [],
   "source": [
    "x = np.linspace(-1,2,200)\n",
    "y = f(x)\n",
    "plt.plot(x, y)\n",
    "plt.xlabel('x')\n",
    "plt.ylabel('y')\n",
    "plt.title('$y=e^x-2$')\n",
    "plt.show()"
   ]
  },
  {
   "cell_type": "markdown",
   "metadata": {
    "deletable": false,
    "editable": false
   },
   "source": [
    "\n",
    "By the graph above, we can find a good initial interval where $a=0.5$ and $b=1.0$ because $f(0.5)<0$ and $f(1.0)>0$. Complete next cell to return the root of the function `f` (which is the approximation of $\\ln 2$) by bisection method with $atol=10^{-8}$."
   ]
  },
  {
   "cell_type": "code",
   "execution_count": null,
   "metadata": {
    "tags": []
   },
   "outputs": [],
   "source": [
    "root =  bisection(...) # Replace ... by the correct input arguments.\n",
    "\n",
    "print(f\"The approximation of ln 2 with atol=1e-8 is {root}\")"
   ]
  },
  {
   "cell_type": "code",
   "execution_count": null,
   "metadata": {
    "deletable": false,
    "editable": false
   },
   "outputs": [],
   "source": [
    "grader.check(\"part_03\")"
   ]
  }
 ],
 "metadata": {
  "kernelspec": {
   "display_name": "base",
   "language": "python",
   "name": "python3"
  },
  "language_info": {
   "codemirror_mode": {
    "name": "ipython",
    "version": 3
   },
   "file_extension": ".py",
   "mimetype": "text/x-python",
   "name": "python",
   "nbconvert_exporter": "python",
   "pygments_lexer": "ipython3",
   "version": "3.12.5"
  },
  "otter": {
   "OK_FORMAT": true,
   "tests": {
    "part_01": {
     "name": "part_01",
     "points": 5,
     "suites": [
      {
       "cases": [
        {
         "code": ">>> assert bisection(lambda x: x, 1, 2, 0.1) == None, 'You should check if bisection is applicable on the interval [a, b] by checking if f(a)*f(b)<=0. If not, the function should return None.'\n",
         "hidden": false,
         "locked": false
        },
        {
         "code": ">>> assert bisection(lambda x: x ** 2 - 1, 0.5, 1.5, 0.1) == 1.0625\n",
         "hidden": false,
         "locked": false
        }
       ],
       "scored": true,
       "setup": "",
       "teardown": "",
       "type": "doctest"
      }
     ]
    },
    "part_02": {
     "name": "part_02",
     "points": 3,
     "suites": [
      {
       "cases": [
        {
         "code": ">>> assert f(0) == -1 and np.round(f(1), 4) == 0.7183, 'Make sure the function return e^x-2. Hint: Use np.exp(x) to return exponential function e^x.'\n",
         "hidden": false,
         "locked": false
        },
        {
         "code": ">>> assert np.all(np.round(f([0, 1, 2]), 4) == [-1, 0.7183, 5.3891]), 'Make sure the function can handle both scalar and array input. Hint: Use np.exp() instead of math.exp().'\n",
         "hidden": false,
         "locked": false
        }
       ],
       "scored": true,
       "setup": "",
       "teardown": "",
       "type": "doctest"
      }
     ]
    },
    "part_03": {
     "name": "part_03",
     "points": 2,
     "suites": [
      {
       "cases": [
        {
         "code": ">>> assert np.round(root, 4) == 0.6931\n",
         "hidden": false,
         "locked": false
        }
       ],
       "scored": true,
       "setup": "",
       "teardown": "",
       "type": "doctest"
      }
     ]
    }
   }
  }
 },
 "nbformat": 4,
 "nbformat_minor": 2
}
